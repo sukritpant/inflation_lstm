{
  "nbformat": 4,
  "nbformat_minor": 0,
  "metadata": {
    "colab": {
      "provenance": []
    },
    "kernelspec": {
      "name": "python3",
      "display_name": "Python 3"
    },
    "language_info": {
      "name": "python"
    }
  },
  "cells": [
    {
      "cell_type": "code",
      "execution_count": 1,
      "metadata": {
        "id": "XiVm7S75wgjK"
      },
      "outputs": [],
      "source": [
        "import pandas as pd\n",
        "import numpy as np\n",
        "from sklearn.preprocessing import MinMaxScaler\n",
        "from sklearn.metrics import mean_absolute_error, mean_squared_error, r2_score\n",
        "from keras.models import Sequential\n",
        "from keras.layers import LSTM, Dense\n",
        "import matplotlib.pyplot as plt"
      ]
    },
    {
      "cell_type": "code",
      "source": [
        "inflation = pd.read_csv('/content/Inflation_only.csv')\n",
        "inflation"
      ],
      "metadata": {
        "colab": {
          "base_uri": "https://localhost:8080/",
          "height": 424
        },
        "id": "IprupQwrwm33",
        "outputId": "bef30c44-aeb7-45a3-e646-27fc577b168d"
      },
      "execution_count": 2,
      "outputs": [
        {
          "output_type": "execute_result",
          "data": {
            "text/plain": [
              "        Month    CPI\n",
              "0    Jan.1972   95.8\n",
              "1    Feb.1972   96.6\n",
              "2    Mar.1972   97.2\n",
              "3    Apr.1972   98.8\n",
              "4    May.1972   99.5\n",
              "..        ...    ...\n",
              "619  Aug.2023  892.2\n",
              "620  Sep.2023  898.5\n",
              "621  Oct.2023  901.0\n",
              "622  Nov.2023  898.0\n",
              "623  Dec.2023  900.4\n",
              "\n",
              "[624 rows x 2 columns]"
            ],
            "text/html": [
              "\n",
              "  <div id=\"df-500eb71a-f036-4b23-8f0d-844dcef7c55a\" class=\"colab-df-container\">\n",
              "    <div>\n",
              "<style scoped>\n",
              "    .dataframe tbody tr th:only-of-type {\n",
              "        vertical-align: middle;\n",
              "    }\n",
              "\n",
              "    .dataframe tbody tr th {\n",
              "        vertical-align: top;\n",
              "    }\n",
              "\n",
              "    .dataframe thead th {\n",
              "        text-align: right;\n",
              "    }\n",
              "</style>\n",
              "<table border=\"1\" class=\"dataframe\">\n",
              "  <thead>\n",
              "    <tr style=\"text-align: right;\">\n",
              "      <th></th>\n",
              "      <th>Month</th>\n",
              "      <th>CPI</th>\n",
              "    </tr>\n",
              "  </thead>\n",
              "  <tbody>\n",
              "    <tr>\n",
              "      <th>0</th>\n",
              "      <td>Jan.1972</td>\n",
              "      <td>95.8</td>\n",
              "    </tr>\n",
              "    <tr>\n",
              "      <th>1</th>\n",
              "      <td>Feb.1972</td>\n",
              "      <td>96.6</td>\n",
              "    </tr>\n",
              "    <tr>\n",
              "      <th>2</th>\n",
              "      <td>Mar.1972</td>\n",
              "      <td>97.2</td>\n",
              "    </tr>\n",
              "    <tr>\n",
              "      <th>3</th>\n",
              "      <td>Apr.1972</td>\n",
              "      <td>98.8</td>\n",
              "    </tr>\n",
              "    <tr>\n",
              "      <th>4</th>\n",
              "      <td>May.1972</td>\n",
              "      <td>99.5</td>\n",
              "    </tr>\n",
              "    <tr>\n",
              "      <th>...</th>\n",
              "      <td>...</td>\n",
              "      <td>...</td>\n",
              "    </tr>\n",
              "    <tr>\n",
              "      <th>619</th>\n",
              "      <td>Aug.2023</td>\n",
              "      <td>892.2</td>\n",
              "    </tr>\n",
              "    <tr>\n",
              "      <th>620</th>\n",
              "      <td>Sep.2023</td>\n",
              "      <td>898.5</td>\n",
              "    </tr>\n",
              "    <tr>\n",
              "      <th>621</th>\n",
              "      <td>Oct.2023</td>\n",
              "      <td>901.0</td>\n",
              "    </tr>\n",
              "    <tr>\n",
              "      <th>622</th>\n",
              "      <td>Nov.2023</td>\n",
              "      <td>898.0</td>\n",
              "    </tr>\n",
              "    <tr>\n",
              "      <th>623</th>\n",
              "      <td>Dec.2023</td>\n",
              "      <td>900.4</td>\n",
              "    </tr>\n",
              "  </tbody>\n",
              "</table>\n",
              "<p>624 rows × 2 columns</p>\n",
              "</div>\n",
              "    <div class=\"colab-df-buttons\">\n",
              "\n",
              "  <div class=\"colab-df-container\">\n",
              "    <button class=\"colab-df-convert\" onclick=\"convertToInteractive('df-500eb71a-f036-4b23-8f0d-844dcef7c55a')\"\n",
              "            title=\"Convert this dataframe to an interactive table.\"\n",
              "            style=\"display:none;\">\n",
              "\n",
              "  <svg xmlns=\"http://www.w3.org/2000/svg\" height=\"24px\" viewBox=\"0 -960 960 960\">\n",
              "    <path d=\"M120-120v-720h720v720H120Zm60-500h600v-160H180v160Zm220 220h160v-160H400v160Zm0 220h160v-160H400v160ZM180-400h160v-160H180v160Zm440 0h160v-160H620v160ZM180-180h160v-160H180v160Zm440 0h160v-160H620v160Z\"/>\n",
              "  </svg>\n",
              "    </button>\n",
              "\n",
              "  <style>\n",
              "    .colab-df-container {\n",
              "      display:flex;\n",
              "      gap: 12px;\n",
              "    }\n",
              "\n",
              "    .colab-df-convert {\n",
              "      background-color: #E8F0FE;\n",
              "      border: none;\n",
              "      border-radius: 50%;\n",
              "      cursor: pointer;\n",
              "      display: none;\n",
              "      fill: #1967D2;\n",
              "      height: 32px;\n",
              "      padding: 0 0 0 0;\n",
              "      width: 32px;\n",
              "    }\n",
              "\n",
              "    .colab-df-convert:hover {\n",
              "      background-color: #E2EBFA;\n",
              "      box-shadow: 0px 1px 2px rgba(60, 64, 67, 0.3), 0px 1px 3px 1px rgba(60, 64, 67, 0.15);\n",
              "      fill: #174EA6;\n",
              "    }\n",
              "\n",
              "    .colab-df-buttons div {\n",
              "      margin-bottom: 4px;\n",
              "    }\n",
              "\n",
              "    [theme=dark] .colab-df-convert {\n",
              "      background-color: #3B4455;\n",
              "      fill: #D2E3FC;\n",
              "    }\n",
              "\n",
              "    [theme=dark] .colab-df-convert:hover {\n",
              "      background-color: #434B5C;\n",
              "      box-shadow: 0px 1px 3px 1px rgba(0, 0, 0, 0.15);\n",
              "      filter: drop-shadow(0px 1px 2px rgba(0, 0, 0, 0.3));\n",
              "      fill: #FFFFFF;\n",
              "    }\n",
              "  </style>\n",
              "\n",
              "    <script>\n",
              "      const buttonEl =\n",
              "        document.querySelector('#df-500eb71a-f036-4b23-8f0d-844dcef7c55a button.colab-df-convert');\n",
              "      buttonEl.style.display =\n",
              "        google.colab.kernel.accessAllowed ? 'block' : 'none';\n",
              "\n",
              "      async function convertToInteractive(key) {\n",
              "        const element = document.querySelector('#df-500eb71a-f036-4b23-8f0d-844dcef7c55a');\n",
              "        const dataTable =\n",
              "          await google.colab.kernel.invokeFunction('convertToInteractive',\n",
              "                                                    [key], {});\n",
              "        if (!dataTable) return;\n",
              "\n",
              "        const docLinkHtml = 'Like what you see? Visit the ' +\n",
              "          '<a target=\"_blank\" href=https://colab.research.google.com/notebooks/data_table.ipynb>data table notebook</a>'\n",
              "          + ' to learn more about interactive tables.';\n",
              "        element.innerHTML = '';\n",
              "        dataTable['output_type'] = 'display_data';\n",
              "        await google.colab.output.renderOutput(dataTable, element);\n",
              "        const docLink = document.createElement('div');\n",
              "        docLink.innerHTML = docLinkHtml;\n",
              "        element.appendChild(docLink);\n",
              "      }\n",
              "    </script>\n",
              "  </div>\n",
              "\n",
              "\n",
              "<div id=\"df-4ab23243-e353-4aa2-ac3e-24fa64e671b0\">\n",
              "  <button class=\"colab-df-quickchart\" onclick=\"quickchart('df-4ab23243-e353-4aa2-ac3e-24fa64e671b0')\"\n",
              "            title=\"Suggest charts\"\n",
              "            style=\"display:none;\">\n",
              "\n",
              "<svg xmlns=\"http://www.w3.org/2000/svg\" height=\"24px\"viewBox=\"0 0 24 24\"\n",
              "     width=\"24px\">\n",
              "    <g>\n",
              "        <path d=\"M19 3H5c-1.1 0-2 .9-2 2v14c0 1.1.9 2 2 2h14c1.1 0 2-.9 2-2V5c0-1.1-.9-2-2-2zM9 17H7v-7h2v7zm4 0h-2V7h2v10zm4 0h-2v-4h2v4z\"/>\n",
              "    </g>\n",
              "</svg>\n",
              "  </button>\n",
              "\n",
              "<style>\n",
              "  .colab-df-quickchart {\n",
              "      --bg-color: #E8F0FE;\n",
              "      --fill-color: #1967D2;\n",
              "      --hover-bg-color: #E2EBFA;\n",
              "      --hover-fill-color: #174EA6;\n",
              "      --disabled-fill-color: #AAA;\n",
              "      --disabled-bg-color: #DDD;\n",
              "  }\n",
              "\n",
              "  [theme=dark] .colab-df-quickchart {\n",
              "      --bg-color: #3B4455;\n",
              "      --fill-color: #D2E3FC;\n",
              "      --hover-bg-color: #434B5C;\n",
              "      --hover-fill-color: #FFFFFF;\n",
              "      --disabled-bg-color: #3B4455;\n",
              "      --disabled-fill-color: #666;\n",
              "  }\n",
              "\n",
              "  .colab-df-quickchart {\n",
              "    background-color: var(--bg-color);\n",
              "    border: none;\n",
              "    border-radius: 50%;\n",
              "    cursor: pointer;\n",
              "    display: none;\n",
              "    fill: var(--fill-color);\n",
              "    height: 32px;\n",
              "    padding: 0;\n",
              "    width: 32px;\n",
              "  }\n",
              "\n",
              "  .colab-df-quickchart:hover {\n",
              "    background-color: var(--hover-bg-color);\n",
              "    box-shadow: 0 1px 2px rgba(60, 64, 67, 0.3), 0 1px 3px 1px rgba(60, 64, 67, 0.15);\n",
              "    fill: var(--button-hover-fill-color);\n",
              "  }\n",
              "\n",
              "  .colab-df-quickchart-complete:disabled,\n",
              "  .colab-df-quickchart-complete:disabled:hover {\n",
              "    background-color: var(--disabled-bg-color);\n",
              "    fill: var(--disabled-fill-color);\n",
              "    box-shadow: none;\n",
              "  }\n",
              "\n",
              "  .colab-df-spinner {\n",
              "    border: 2px solid var(--fill-color);\n",
              "    border-color: transparent;\n",
              "    border-bottom-color: var(--fill-color);\n",
              "    animation:\n",
              "      spin 1s steps(1) infinite;\n",
              "  }\n",
              "\n",
              "  @keyframes spin {\n",
              "    0% {\n",
              "      border-color: transparent;\n",
              "      border-bottom-color: var(--fill-color);\n",
              "      border-left-color: var(--fill-color);\n",
              "    }\n",
              "    20% {\n",
              "      border-color: transparent;\n",
              "      border-left-color: var(--fill-color);\n",
              "      border-top-color: var(--fill-color);\n",
              "    }\n",
              "    30% {\n",
              "      border-color: transparent;\n",
              "      border-left-color: var(--fill-color);\n",
              "      border-top-color: var(--fill-color);\n",
              "      border-right-color: var(--fill-color);\n",
              "    }\n",
              "    40% {\n",
              "      border-color: transparent;\n",
              "      border-right-color: var(--fill-color);\n",
              "      border-top-color: var(--fill-color);\n",
              "    }\n",
              "    60% {\n",
              "      border-color: transparent;\n",
              "      border-right-color: var(--fill-color);\n",
              "    }\n",
              "    80% {\n",
              "      border-color: transparent;\n",
              "      border-right-color: var(--fill-color);\n",
              "      border-bottom-color: var(--fill-color);\n",
              "    }\n",
              "    90% {\n",
              "      border-color: transparent;\n",
              "      border-bottom-color: var(--fill-color);\n",
              "    }\n",
              "  }\n",
              "</style>\n",
              "\n",
              "  <script>\n",
              "    async function quickchart(key) {\n",
              "      const quickchartButtonEl =\n",
              "        document.querySelector('#' + key + ' button');\n",
              "      quickchartButtonEl.disabled = true;  // To prevent multiple clicks.\n",
              "      quickchartButtonEl.classList.add('colab-df-spinner');\n",
              "      try {\n",
              "        const charts = await google.colab.kernel.invokeFunction(\n",
              "            'suggestCharts', [key], {});\n",
              "      } catch (error) {\n",
              "        console.error('Error during call to suggestCharts:', error);\n",
              "      }\n",
              "      quickchartButtonEl.classList.remove('colab-df-spinner');\n",
              "      quickchartButtonEl.classList.add('colab-df-quickchart-complete');\n",
              "    }\n",
              "    (() => {\n",
              "      let quickchartButtonEl =\n",
              "        document.querySelector('#df-4ab23243-e353-4aa2-ac3e-24fa64e671b0 button');\n",
              "      quickchartButtonEl.style.display =\n",
              "        google.colab.kernel.accessAllowed ? 'block' : 'none';\n",
              "    })();\n",
              "  </script>\n",
              "</div>\n",
              "    </div>\n",
              "  </div>\n"
            ],
            "application/vnd.google.colaboratory.intrinsic+json": {
              "type": "dataframe",
              "variable_name": "inflation",
              "summary": "{\n  \"name\": \"inflation\",\n  \"rows\": 624,\n  \"fields\": [\n    {\n      \"column\": \"Month\",\n      \"properties\": {\n        \"dtype\": \"object\",\n        \"min\": \"Apr.1972\",\n        \"max\": \"Sep.2023\",\n        \"samples\": [\n          \"Mar.2009\",\n          \"May.2013\",\n          \"Dec.1989\"\n        ],\n        \"num_unique_values\": 624,\n        \"semantic_type\": \"\",\n        \"description\": \"\"\n      }\n    },\n    {\n      \"column\": \"CPI\",\n      \"properties\": {\n        \"dtype\": \"number\",\n        \"std\": 210.09469131126073,\n        \"min\": 95.8,\n        \"max\": 901.0,\n        \"samples\": [\n          621.8,\n          674.1,\n          227.3\n        ],\n        \"num_unique_values\": 584,\n        \"semantic_type\": \"\",\n        \"description\": \"\"\n      }\n    }\n  ]\n}"
            }
          },
          "metadata": {},
          "execution_count": 2
        }
      ]
    },
    {
      "cell_type": "code",
      "source": [
        "inflation['Month'] = pd.to_datetime(inflation['Month'], format='%b.%Y')\n",
        "inflation.set_index('Month', inplace=True)"
      ],
      "metadata": {
        "id": "GYK33SZ-6wP5"
      },
      "execution_count": 3,
      "outputs": []
    },
    {
      "cell_type": "markdown",
      "source": [
        "#### Select CPI as the target"
      ],
      "metadata": {
        "id": "2XreQqcK4-mi"
      }
    },
    {
      "cell_type": "code",
      "source": [
        "y = inflation['CPI']"
      ],
      "metadata": {
        "id": "sgqTrEhvxUmL"
      },
      "execution_count": 4,
      "outputs": []
    },
    {
      "cell_type": "code",
      "source": [
        "y_values = y.values.reshape(-1, 1)\n",
        "\n",
        "scaler = MinMaxScaler(feature_range=(0, 1))\n",
        "y_scaled = scaler.fit_transform(y_values)"
      ],
      "metadata": {
        "id": "BAXM3b3qxKfT"
      },
      "execution_count": 5,
      "outputs": []
    },
    {
      "cell_type": "markdown",
      "source": [
        "#### Taking the 12 months from the final year for testing and using the rest for training"
      ],
      "metadata": {
        "id": "BTCkDlOy5DN4"
      }
    },
    {
      "cell_type": "code",
      "source": [
        "test_months = 12\n",
        "train_data = y_scaled[:-test_months]\n",
        "test_data = y_scaled[-test_months:]"
      ],
      "metadata": {
        "id": "fXf-kNbe4Wx1"
      },
      "execution_count": 6,
      "outputs": []
    },
    {
      "cell_type": "code",
      "source": [
        "sequence_length = 12\n",
        "data_train, target_train = [], []\n",
        "\n",
        "for i in range(len(train_data) - sequence_length):\n",
        "    data_train.append(train_data[i:i+sequence_length])\n",
        "    target_train.append(train_data[i+sequence_length])"
      ],
      "metadata": {
        "id": "6wmw0LCwxiKk"
      },
      "execution_count": 7,
      "outputs": []
    },
    {
      "cell_type": "code",
      "source": [
        "data_train = np.array(data_train)\n",
        "target_train = np.array(target_train)\n",
        "\n",
        "data_train = np.reshape(data_train, (data_train.shape[0], data_train.shape[1], 1))\n"
      ],
      "metadata": {
        "id": "7SVOdq-SxmX1"
      },
      "execution_count": 8,
      "outputs": []
    },
    {
      "cell_type": "markdown",
      "source": [
        "#### Building a 3 LSTM Model for training the dataset"
      ],
      "metadata": {
        "id": "wMClRwlS5QLD"
      }
    },
    {
      "cell_type": "code",
      "source": [
        "model = Sequential()\n",
        "model.add(LSTM(units=50, return_sequences=True, input_shape=(data_train.shape[1], 1)))\n",
        "model.add(LSTM(units=50, return_sequences=True))\n",
        "model.add(LSTM(units=50))\n",
        "model.add(Dense(units=1))\n",
        "\n",
        "model.compile(optimizer='adam', loss='mean_squared_error')"
      ],
      "metadata": {
        "id": "RGg8fslLxpE_"
      },
      "execution_count": 9,
      "outputs": []
    },
    {
      "cell_type": "code",
      "source": [
        "model.fit(data_train, target_train, epochs=50, batch_size=64)"
      ],
      "metadata": {
        "colab": {
          "base_uri": "https://localhost:8080/"
        },
        "id": "zolYsZjSxsiq",
        "outputId": "900dea1c-d620-4fe8-b0a5-a54f2777fc7f"
      },
      "execution_count": 10,
      "outputs": [
        {
          "output_type": "stream",
          "name": "stdout",
          "text": [
            "Epoch 1/50\n",
            "10/10 [==============================] - 14s 60ms/step - loss: 0.1199\n",
            "Epoch 2/50\n",
            "10/10 [==============================] - 1s 64ms/step - loss: 0.0221\n",
            "Epoch 3/50\n",
            "10/10 [==============================] - 1s 73ms/step - loss: 0.0111\n",
            "Epoch 4/50\n",
            "10/10 [==============================] - 1s 64ms/step - loss: 0.0057\n",
            "Epoch 5/50\n",
            "10/10 [==============================] - 1s 81ms/step - loss: 0.0021\n",
            "Epoch 6/50\n",
            "10/10 [==============================] - 1s 54ms/step - loss: 6.2629e-04\n",
            "Epoch 7/50\n",
            "10/10 [==============================] - 1s 94ms/step - loss: 1.9547e-04\n",
            "Epoch 8/50\n",
            "10/10 [==============================] - 1s 63ms/step - loss: 1.6401e-04\n",
            "Epoch 9/50\n",
            "10/10 [==============================] - 1s 77ms/step - loss: 1.3930e-04\n",
            "Epoch 10/50\n",
            "10/10 [==============================] - 1s 54ms/step - loss: 1.1840e-04\n",
            "Epoch 11/50\n",
            "10/10 [==============================] - 1s 51ms/step - loss: 1.0389e-04\n",
            "Epoch 12/50\n",
            "10/10 [==============================] - 0s 46ms/step - loss: 1.0474e-04\n",
            "Epoch 13/50\n",
            "10/10 [==============================] - 0s 31ms/step - loss: 1.0263e-04\n",
            "Epoch 14/50\n",
            "10/10 [==============================] - 0s 24ms/step - loss: 1.0077e-04\n",
            "Epoch 15/50\n",
            "10/10 [==============================] - 0s 23ms/step - loss: 1.0452e-04\n",
            "Epoch 16/50\n",
            "10/10 [==============================] - 0s 26ms/step - loss: 1.0225e-04\n",
            "Epoch 17/50\n",
            "10/10 [==============================] - 0s 25ms/step - loss: 9.9452e-05\n",
            "Epoch 18/50\n",
            "10/10 [==============================] - 0s 24ms/step - loss: 1.0140e-04\n",
            "Epoch 19/50\n",
            "10/10 [==============================] - 0s 24ms/step - loss: 9.8737e-05\n",
            "Epoch 20/50\n",
            "10/10 [==============================] - 0s 25ms/step - loss: 1.0125e-04\n",
            "Epoch 21/50\n",
            "10/10 [==============================] - 0s 23ms/step - loss: 1.0251e-04\n",
            "Epoch 22/50\n",
            "10/10 [==============================] - 0s 23ms/step - loss: 1.0681e-04\n",
            "Epoch 23/50\n",
            "10/10 [==============================] - 0s 24ms/step - loss: 9.8361e-05\n",
            "Epoch 24/50\n",
            "10/10 [==============================] - 0s 25ms/step - loss: 9.8938e-05\n",
            "Epoch 25/50\n",
            "10/10 [==============================] - 0s 22ms/step - loss: 1.1185e-04\n",
            "Epoch 26/50\n",
            "10/10 [==============================] - 0s 23ms/step - loss: 1.1210e-04\n",
            "Epoch 27/50\n",
            "10/10 [==============================] - 0s 24ms/step - loss: 1.1681e-04\n",
            "Epoch 28/50\n",
            "10/10 [==============================] - 0s 25ms/step - loss: 1.0592e-04\n",
            "Epoch 29/50\n",
            "10/10 [==============================] - 0s 23ms/step - loss: 1.0234e-04\n",
            "Epoch 30/50\n",
            "10/10 [==============================] - 0s 23ms/step - loss: 1.0142e-04\n",
            "Epoch 31/50\n",
            "10/10 [==============================] - 0s 24ms/step - loss: 9.7362e-05\n",
            "Epoch 32/50\n",
            "10/10 [==============================] - 0s 24ms/step - loss: 1.0200e-04\n",
            "Epoch 33/50\n",
            "10/10 [==============================] - 0s 27ms/step - loss: 1.0537e-04\n",
            "Epoch 34/50\n",
            "10/10 [==============================] - 0s 25ms/step - loss: 9.6478e-05\n",
            "Epoch 35/50\n",
            "10/10 [==============================] - 0s 24ms/step - loss: 1.0489e-04\n",
            "Epoch 36/50\n",
            "10/10 [==============================] - 0s 24ms/step - loss: 1.0288e-04\n",
            "Epoch 37/50\n",
            "10/10 [==============================] - 0s 26ms/step - loss: 1.0312e-04\n",
            "Epoch 38/50\n",
            "10/10 [==============================] - 0s 23ms/step - loss: 9.5460e-05\n",
            "Epoch 39/50\n",
            "10/10 [==============================] - 0s 24ms/step - loss: 1.0260e-04\n",
            "Epoch 40/50\n",
            "10/10 [==============================] - 0s 25ms/step - loss: 1.0218e-04\n",
            "Epoch 41/50\n",
            "10/10 [==============================] - 0s 25ms/step - loss: 1.0368e-04\n",
            "Epoch 42/50\n",
            "10/10 [==============================] - 0s 24ms/step - loss: 9.7764e-05\n",
            "Epoch 43/50\n",
            "10/10 [==============================] - 0s 24ms/step - loss: 9.5615e-05\n",
            "Epoch 44/50\n",
            "10/10 [==============================] - 0s 24ms/step - loss: 9.5952e-05\n",
            "Epoch 45/50\n",
            "10/10 [==============================] - 0s 27ms/step - loss: 9.7943e-05\n",
            "Epoch 46/50\n",
            "10/10 [==============================] - 0s 37ms/step - loss: 1.0831e-04\n",
            "Epoch 47/50\n",
            "10/10 [==============================] - 0s 39ms/step - loss: 1.0895e-04\n",
            "Epoch 48/50\n",
            "10/10 [==============================] - 0s 42ms/step - loss: 9.5006e-05\n",
            "Epoch 49/50\n",
            "10/10 [==============================] - 0s 37ms/step - loss: 9.5602e-05\n",
            "Epoch 50/50\n",
            "10/10 [==============================] - 0s 39ms/step - loss: 9.7809e-05\n"
          ]
        },
        {
          "output_type": "execute_result",
          "data": {
            "text/plain": [
              "<keras.src.callbacks.History at 0x7fc3d1ee5de0>"
            ]
          },
          "metadata": {},
          "execution_count": 10
        }
      ]
    },
    {
      "cell_type": "markdown",
      "source": [
        "#### Creating prediction and adding it to the model to make additional prediction with 12 input layers"
      ],
      "metadata": {
        "id": "lGzlUMCw5bIT"
      }
    },
    {
      "cell_type": "code",
      "source": [
        "predictions = []\n",
        "current_sequence = y_scaled[-12:]\n",
        "\n",
        "# Number of steps to predict\n",
        "num_steps = 12\n",
        "\n",
        "for _ in range(num_steps):\n",
        "\n",
        "    current_sequence_reshaped = current_sequence.reshape(1, sequence_length, 1)\n",
        "    predicted_value_scaled = model.predict(current_sequence_reshaped)\n",
        "    predicted_value = predicted_value_scaled.reshape(1, -1).flatten()[0]\n",
        "    predictions.append(predicted_value)\n",
        "    current_sequence = np.concatenate((current_sequence[1:], [[predicted_value]]))"
      ],
      "metadata": {
        "colab": {
          "base_uri": "https://localhost:8080/"
        },
        "id": "bgUFprHV7Xjd",
        "outputId": "688f5aeb-c826-4419-8436-4f28ed26f998"
      },
      "execution_count": 11,
      "outputs": [
        {
          "output_type": "stream",
          "name": "stdout",
          "text": [
            "1/1 [==============================] - 1s 1s/step\n",
            "1/1 [==============================] - 0s 24ms/step\n",
            "1/1 [==============================] - 0s 24ms/step\n",
            "1/1 [==============================] - 0s 25ms/step\n",
            "1/1 [==============================] - 0s 22ms/step\n",
            "1/1 [==============================] - 0s 22ms/step\n",
            "1/1 [==============================] - 0s 24ms/step\n",
            "1/1 [==============================] - 0s 22ms/step\n",
            "1/1 [==============================] - 0s 27ms/step\n",
            "1/1 [==============================] - 0s 23ms/step\n",
            "1/1 [==============================] - 0s 22ms/step\n",
            "1/1 [==============================] - 0s 22ms/step\n"
          ]
        }
      ]
    },
    {
      "cell_type": "markdown",
      "source": [
        "#### Scaling back the test data and predictions to true values"
      ],
      "metadata": {
        "id": "tTfNMjRH51el"
      }
    },
    {
      "cell_type": "code",
      "source": [
        "actual_values = test_data"
      ],
      "metadata": {
        "id": "jJNBvmFB8Z7A"
      },
      "execution_count": 12,
      "outputs": []
    },
    {
      "cell_type": "code",
      "source": [
        "actual_values = scaler.inverse_transform(y_scaled[-num_steps:]).flatten()"
      ],
      "metadata": {
        "id": "So-6BXtC8lYz"
      },
      "execution_count": 13,
      "outputs": []
    },
    {
      "cell_type": "code",
      "source": [
        "predictions = [scaler.inverse_transform(np.array(pred).reshape(1, -1)).flatten()[0] for pred in predictions]"
      ],
      "metadata": {
        "id": "uxOaGlzf8Q-l"
      },
      "execution_count": 14,
      "outputs": []
    },
    {
      "cell_type": "code",
      "source": [
        "predictions = predictions[::-1]\n",
        "predictions"
      ],
      "metadata": {
        "colab": {
          "base_uri": "https://localhost:8080/"
        },
        "id": "h5EtYjO58T-I",
        "outputId": "3d4d8793-ce1c-497d-9e86-17237d7cbb7c"
      },
      "execution_count": 15,
      "outputs": [
        {
          "output_type": "execute_result",
          "data": {
            "text/plain": [
              "[904.9904,\n",
              " 904.452,\n",
              " 904.2705,\n",
              " 903.9381,\n",
              " 903.0682,\n",
              " 902.8556,\n",
              " 902.28925,\n",
              " 901.5961,\n",
              " 900.702,\n",
              " 899.5492,\n",
              " 897.8403,\n",
              " 895.39935]"
            ]
          },
          "metadata": {},
          "execution_count": 15
        }
      ]
    },
    {
      "cell_type": "code",
      "source": [
        "actual_values"
      ],
      "metadata": {
        "colab": {
          "base_uri": "https://localhost:8080/"
        },
        "id": "s7e7M0xS8nVA",
        "outputId": "5f46fdd1-ad73-48f7-9365-eeb949e5d621"
      },
      "execution_count": 16,
      "outputs": [
        {
          "output_type": "execute_result",
          "data": {
            "text/plain": [
              "array([874.1, 881.4, 887.1, 889.9, 892.3, 894.1, 898.6, 892.2, 898.5,\n",
              "       901. , 898. , 900.4])"
            ]
          },
          "metadata": {},
          "execution_count": 16
        }
      ]
    },
    {
      "cell_type": "markdown",
      "source": [
        "#### Plotting the true values"
      ],
      "metadata": {
        "id": "7X6czQj75_-q"
      }
    },
    {
      "cell_type": "code",
      "source": [
        "df_plot = pd.DataFrame({'Actual': actual_values, 'Predicted': predictions}, index=y.index[-num_steps:])\n",
        "\n",
        "# Plotting\n",
        "plt.figure(figsize=(10, 6))\n",
        "df_plot.plot(marker='o')\n",
        "plt.title('Actual vs Predicted CPI for the Last 12 Months')\n",
        "plt.xlabel('Month')\n",
        "plt.ylabel('CPI')\n",
        "plt.legend(['Actual', 'Predicted'])\n",
        "plt.show()"
      ],
      "metadata": {
        "colab": {
          "base_uri": "https://localhost:8080/",
          "height": 506
        },
        "id": "1yq4L4br8qvO",
        "outputId": "3cd953e3-5981-40be-99af-b74ce3c4a458"
      },
      "execution_count": 17,
      "outputs": [
        {
          "output_type": "display_data",
          "data": {
            "text/plain": [
              "<Figure size 1000x600 with 0 Axes>"
            ]
          },
          "metadata": {}
        },
        {
          "output_type": "display_data",
          "data": {
            "text/plain": [
              "<Figure size 640x480 with 1 Axes>"
            ],
            "image/png": "[encoded data removed]"
          },
          "metadata": {}
        }
      ]
    },
    {
      "cell_type": "markdown",
      "source": [
        "Accuracy of the models on the true value"
      ],
      "metadata": {
        "id": "nhlzrAah6DfZ"
      }
    },
    {
      "cell_type": "code",
      "source": [
        "\n",
        "mse = mean_squared_error(actual_values, predictions)\n",
        "print(f'Mean Squared Error (MSE): {mse}')\n",
        "\n",
        "rmse = np.sqrt(mse)\n",
        "print(f'Root Mean Squared Error (RMSE): {rmse}')\n",
        "\n",
        "r2 = r2_score(actual_values, predictions)\n",
        "print(f'R-squared: {r2}')"
      ],
      "metadata": {
        "colab": {
          "base_uri": "https://localhost:8080/"
        },
        "id": "P4FPYLft8zcg",
        "outputId": "f665c7eb-3f14-4e6c-dcb2-490bb2f1ebed"
      },
      "execution_count": 18,
      "outputs": [
        {
          "output_type": "stream",
          "name": "stdout",
          "text": [
            "Mean Squared Error (MSE): 192.00051859182625\n",
            "Root Mean Squared Error (RMSE): 13.856425173609038\n",
            "R-squared: -2.121875048239779\n"
          ]
        }
      ]
    },
    {
      "cell_type": "code",
      "source": [
        "\n",
        "predictions = []\n",
        "current_sequence = y_scaled[-12:]\n",
        "\n",
        "# Number of steps to predict\n",
        "num_steps = 12\n",
        "\n",
        "for i in range(num_steps):\n",
        "    # Predict the next value\n",
        "    current_sequence_reshaped = current_sequence.reshape(1, sequence_length, 1)\n",
        "    predicted_value_scaled = model.predict(current_sequence_reshaped)\n",
        "    predicted_value = predicted_value_scaled.flatten()[0]\n",
        "\n",
        "    # Append the predicted value to predictions\n",
        "    predictions.append(predicted_value)\n",
        "\n",
        "    # Get the actual value from test_data\n",
        "    actual_value_scaled = test_data[i]\n",
        "    actual_value = actual_value_scaled.flatten()[0]\n",
        "\n",
        "    # Update the current_sequence with actual value\n",
        "    current_sequence = np.concatenate((current_sequence[1:], [[actual_value]]))\n",
        "\n",
        "# Flatten test_data and get the first num_steps values\n",
        "actual_values = test_data[:num_steps].flatten()\n",
        "\n",
        "# Append the predictions and actual values to the predictions table\n",
        "predictions_table = pd.DataFrame({'Predicted': predictions, 'Actual': actual_values})\n"
      ],
      "metadata": {
        "colab": {
          "base_uri": "https://localhost:8080/"
        },
        "id": "VyLRFQ046G-9",
        "outputId": "049630df-2539-4b10-ec5a-d961b628b5d8"
      },
      "execution_count": 19,
      "outputs": [
        {
          "output_type": "stream",
          "name": "stdout",
          "text": [
            "1/1 [==============================] - 0s 23ms/step\n",
            "1/1 [==============================] - 0s 25ms/step\n",
            "1/1 [==============================] - 0s 25ms/step\n",
            "1/1 [==============================] - 0s 27ms/step\n",
            "1/1 [==============================] - 0s 22ms/step\n",
            "1/1 [==============================] - 0s 33ms/step\n",
            "1/1 [==============================] - 0s 22ms/step\n",
            "1/1 [==============================] - 0s 23ms/step\n",
            "1/1 [==============================] - 0s 21ms/step\n",
            "1/1 [==============================] - 0s 25ms/step\n",
            "1/1 [==============================] - 0s 26ms/step\n",
            "1/1 [==============================] - 0s 23ms/step\n"
          ]
        }
      ]
    },
    {
      "cell_type": "code",
      "source": [
        "predictions = [scaler.inverse_transform(np.array(pred).reshape(1, -1)).flatten()[0] for pred in predictions]"
      ],
      "metadata": {
        "id": "n7yTeCXl7dO3"
      },
      "execution_count": 20,
      "outputs": []
    },
    {
      "cell_type": "code",
      "source": [
        "actual_values = scaler.inverse_transform(y_scaled[-num_steps:]).flatten()"
      ],
      "metadata": {
        "id": "UzuZB9ao7euR"
      },
      "execution_count": 21,
      "outputs": []
    },
    {
      "cell_type": "code",
      "source": [
        "predictions_table = pd.DataFrame({'Predicted': predictions, 'Actual': actual_values})\n",
        "predictions_table"
      ],
      "metadata": {
        "colab": {
          "base_uri": "https://localhost:8080/",
          "height": 426
        },
        "id": "bODTlyOp7iym",
        "outputId": "79cd938b-6e27-4caf-c3d9-d16623336279"
      },
      "execution_count": 22,
      "outputs": [
        {
          "output_type": "execute_result",
          "data": {
            "text/plain": [
              "     Predicted  Actual\n",
              "0   895.399353   874.1\n",
              "1   897.619690   881.4\n",
              "2   898.823914   887.1\n",
              "3   899.209778   889.9\n",
              "4   899.129150   892.3\n",
              "5   898.711121   894.1\n",
              "6   898.104492   898.6\n",
              "7   897.182068   892.2\n",
              "8   896.956604   898.5\n",
              "9   896.293884   901.0\n",
              "10  895.641846   898.0\n",
              "11  895.510742   900.4"
            ],
            "text/html": [
              "\n",
              "  <div id=\"df-5f131647-22e5-47e4-a1df-17a1044f69f3\" class=\"colab-df-container\">\n",
              "    <div>\n",
              "<style scoped>\n",
              "    .dataframe tbody tr th:only-of-type {\n",
              "        vertical-align: middle;\n",
              "    }\n",
              "\n",
              "    .dataframe tbody tr th {\n",
              "        vertical-align: top;\n",
              "    }\n",
              "\n",
              "    .dataframe thead th {\n",
              "        text-align: right;\n",
              "    }\n",
              "</style>\n",
              "<table border=\"1\" class=\"dataframe\">\n",
              "  <thead>\n",
              "    <tr style=\"text-align: right;\">\n",
              "      <th></th>\n",
              "      <th>Predicted</th>\n",
              "      <th>Actual</th>\n",
              "    </tr>\n",
              "  </thead>\n",
              "  <tbody>\n",
              "    <tr>\n",
              "      <th>0</th>\n",
              "      <td>895.399353</td>\n",
              "      <td>874.1</td>\n",
              "    </tr>\n",
              "    <tr>\n",
              "      <th>1</th>\n",
              "      <td>897.619690</td>\n",
              "      <td>881.4</td>\n",
              "    </tr>\n",
              "    <tr>\n",
              "      <th>2</th>\n",
              "      <td>898.823914</td>\n",
              "      <td>887.1</td>\n",
              "    </tr>\n",
              "    <tr>\n",
              "      <th>3</th>\n",
              "      <td>899.209778</td>\n",
              "      <td>889.9</td>\n",
              "    </tr>\n",
              "    <tr>\n",
              "      <th>4</th>\n",
              "      <td>899.129150</td>\n",
              "      <td>892.3</td>\n",
              "    </tr>\n",
              "    <tr>\n",
              "      <th>5</th>\n",
              "      <td>898.711121</td>\n",
              "      <td>894.1</td>\n",
              "    </tr>\n",
              "    <tr>\n",
              "      <th>6</th>\n",
              "      <td>898.104492</td>\n",
              "      <td>898.6</td>\n",
              "    </tr>\n",
              "    <tr>\n",
              "      <th>7</th>\n",
              "      <td>897.182068</td>\n",
              "      <td>892.2</td>\n",
              "    </tr>\n",
              "    <tr>\n",
              "      <th>8</th>\n",
              "      <td>896.956604</td>\n",
              "      <td>898.5</td>\n",
              "    </tr>\n",
              "    <tr>\n",
              "      <th>9</th>\n",
              "      <td>896.293884</td>\n",
              "      <td>901.0</td>\n",
              "    </tr>\n",
              "    <tr>\n",
              "      <th>10</th>\n",
              "      <td>895.641846</td>\n",
              "      <td>898.0</td>\n",
              "    </tr>\n",
              "    <tr>\n",
              "      <th>11</th>\n",
              "      <td>895.510742</td>\n",
              "      <td>900.4</td>\n",
              "    </tr>\n",
              "  </tbody>\n",
              "</table>\n",
              "</div>\n",
              "    <div class=\"colab-df-buttons\">\n",
              "\n",
              "  <div class=\"colab-df-container\">\n",
              "    <button class=\"colab-df-convert\" onclick=\"convertToInteractive('df-5f131647-22e5-47e4-a1df-17a1044f69f3')\"\n",
              "            title=\"Convert this dataframe to an interactive table.\"\n",
              "            style=\"display:none;\">\n",
              "\n",
              "  <svg xmlns=\"http://www.w3.org/2000/svg\" height=\"24px\" viewBox=\"0 -960 960 960\">\n",
              "    <path d=\"M120-120v-720h720v720H120Zm60-500h600v-160H180v160Zm220 220h160v-160H400v160Zm0 220h160v-160H400v160ZM180-400h160v-160H180v160Zm440 0h160v-160H620v160ZM180-180h160v-160H180v160Zm440 0h160v-160H620v160Z\"/>\n",
              "  </svg>\n",
              "    </button>\n",
              "\n",
              "  <style>\n",
              "    .colab-df-container {\n",
              "      display:flex;\n",
              "      gap: 12px;\n",
              "    }\n",
              "\n",
              "    .colab-df-convert {\n",
              "      background-color: #E8F0FE;\n",
              "      border: none;\n",
              "      border-radius: 50%;\n",
              "      cursor: pointer;\n",
              "      display: none;\n",
              "      fill: #1967D2;\n",
              "      height: 32px;\n",
              "      padding: 0 0 0 0;\n",
              "      width: 32px;\n",
              "    }\n",
              "\n",
              "    .colab-df-convert:hover {\n",
              "      background-color: #E2EBFA;\n",
              "      box-shadow: 0px 1px 2px rgba(60, 64, 67, 0.3), 0px 1px 3px 1px rgba(60, 64, 67, 0.15);\n",
              "      fill: #174EA6;\n",
              "    }\n",
              "\n",
              "    .colab-df-buttons div {\n",
              "      margin-bottom: 4px;\n",
              "    }\n",
              "\n",
              "    [theme=dark] .colab-df-convert {\n",
              "      background-color: #3B4455;\n",
              "      fill: #D2E3FC;\n",
              "    }\n",
              "\n",
              "    [theme=dark] .colab-df-convert:hover {\n",
              "      background-color: #434B5C;\n",
              "      box-shadow: 0px 1px 3px 1px rgba(0, 0, 0, 0.15);\n",
              "      filter: drop-shadow(0px 1px 2px rgba(0, 0, 0, 0.3));\n",
              "      fill: #FFFFFF;\n",
              "    }\n",
              "  </style>\n",
              "\n",
              "    <script>\n",
              "      const buttonEl =\n",
              "        document.querySelector('#df-5f131647-22e5-47e4-a1df-17a1044f69f3 button.colab-df-convert');\n",
              "      buttonEl.style.display =\n",
              "        google.colab.kernel.accessAllowed ? 'block' : 'none';\n",
              "\n",
              "      async function convertToInteractive(key) {\n",
              "        const element = document.querySelector('#df-5f131647-22e5-47e4-a1df-17a1044f69f3');\n",
              "        const dataTable =\n",
              "          await google.colab.kernel.invokeFunction('convertToInteractive',\n",
              "                                                    [key], {});\n",
              "        if (!dataTable) return;\n",
              "\n",
              "        const docLinkHtml = 'Like what you see? Visit the ' +\n",
              "          '<a target=\"_blank\" href=https://colab.research.google.com/notebooks/data_table.ipynb>data table notebook</a>'\n",
              "          + ' to learn more about interactive tables.';\n",
              "        element.innerHTML = '';\n",
              "        dataTable['output_type'] = 'display_data';\n",
              "        await google.colab.output.renderOutput(dataTable, element);\n",
              "        const docLink = document.createElement('div');\n",
              "        docLink.innerHTML = docLinkHtml;\n",
              "        element.appendChild(docLink);\n",
              "      }\n",
              "    </script>\n",
              "  </div>\n",
              "\n",
              "\n",
              "<div id=\"df-a61c0b98-b2a8-4e7f-a9c3-ec730725de71\">\n",
              "  <button class=\"colab-df-quickchart\" onclick=\"quickchart('df-a61c0b98-b2a8-4e7f-a9c3-ec730725de71')\"\n",
              "            title=\"Suggest charts\"\n",
              "            style=\"display:none;\">\n",
              "\n",
              "<svg xmlns=\"http://www.w3.org/2000/svg\" height=\"24px\"viewBox=\"0 0 24 24\"\n",
              "     width=\"24px\">\n",
              "    <g>\n",
              "        <path d=\"M19 3H5c-1.1 0-2 .9-2 2v14c0 1.1.9 2 2 2h14c1.1 0 2-.9 2-2V5c0-1.1-.9-2-2-2zM9 17H7v-7h2v7zm4 0h-2V7h2v10zm4 0h-2v-4h2v4z\"/>\n",
              "    </g>\n",
              "</svg>\n",
              "  </button>\n",
              "\n",
              "<style>\n",
              "  .colab-df-quickchart {\n",
              "      --bg-color: #E8F0FE;\n",
              "      --fill-color: #1967D2;\n",
              "      --hover-bg-color: #E2EBFA;\n",
              "      --hover-fill-color: #174EA6;\n",
              "      --disabled-fill-color: #AAA;\n",
              "      --disabled-bg-color: #DDD;\n",
              "  }\n",
              "\n",
              "  [theme=dark] .colab-df-quickchart {\n",
              "      --bg-color: #3B4455;\n",
              "      --fill-color: #D2E3FC;\n",
              "      --hover-bg-color: #434B5C;\n",
              "      --hover-fill-color: #FFFFFF;\n",
              "      --disabled-bg-color: #3B4455;\n",
              "      --disabled-fill-color: #666;\n",
              "  }\n",
              "\n",
              "  .colab-df-quickchart {\n",
              "    background-color: var(--bg-color);\n",
              "    border: none;\n",
              "    border-radius: 50%;\n",
              "    cursor: pointer;\n",
              "    display: none;\n",
              "    fill: var(--fill-color);\n",
              "    height: 32px;\n",
              "    padding: 0;\n",
              "    width: 32px;\n",
              "  }\n",
              "\n",
              "  .colab-df-quickchart:hover {\n",
              "    background-color: var(--hover-bg-color);\n",
              "    box-shadow: 0 1px 2px rgba(60, 64, 67, 0.3), 0 1px 3px 1px rgba(60, 64, 67, 0.15);\n",
              "    fill: var(--button-hover-fill-color);\n",
              "  }\n",
              "\n",
              "  .colab-df-quickchart-complete:disabled,\n",
              "  .colab-df-quickchart-complete:disabled:hover {\n",
              "    background-color: var(--disabled-bg-color);\n",
              "    fill: var(--disabled-fill-color);\n",
              "    box-shadow: none;\n",
              "  }\n",
              "\n",
              "  .colab-df-spinner {\n",
              "    border: 2px solid var(--fill-color);\n",
              "    border-color: transparent;\n",
              "    border-bottom-color: var(--fill-color);\n",
              "    animation:\n",
              "      spin 1s steps(1) infinite;\n",
              "  }\n",
              "\n",
              "  @keyframes spin {\n",
              "    0% {\n",
              "      border-color: transparent;\n",
              "      border-bottom-color: var(--fill-color);\n",
              "      border-left-color: var(--fill-color);\n",
              "    }\n",
              "    20% {\n",
              "      border-color: transparent;\n",
              "      border-left-color: var(--fill-color);\n",
              "      border-top-color: var(--fill-color);\n",
              "    }\n",
              "    30% {\n",
              "      border-color: transparent;\n",
              "      border-left-color: var(--fill-color);\n",
              "      border-top-color: var(--fill-color);\n",
              "      border-right-color: var(--fill-color);\n",
              "    }\n",
              "    40% {\n",
              "      border-color: transparent;\n",
              "      border-right-color: var(--fill-color);\n",
              "      border-top-color: var(--fill-color);\n",
              "    }\n",
              "    60% {\n",
              "      border-color: transparent;\n",
              "      border-right-color: var(--fill-color);\n",
              "    }\n",
              "    80% {\n",
              "      border-color: transparent;\n",
              "      border-right-color: var(--fill-color);\n",
              "      border-bottom-color: var(--fill-color);\n",
              "    }\n",
              "    90% {\n",
              "      border-color: transparent;\n",
              "      border-bottom-color: var(--fill-color);\n",
              "    }\n",
              "  }\n",
              "</style>\n",
              "\n",
              "  <script>\n",
              "    async function quickchart(key) {\n",
              "      const quickchartButtonEl =\n",
              "        document.querySelector('#' + key + ' button');\n",
              "      quickchartButtonEl.disabled = true;  // To prevent multiple clicks.\n",
              "      quickchartButtonEl.classList.add('colab-df-spinner');\n",
              "      try {\n",
              "        const charts = await google.colab.kernel.invokeFunction(\n",
              "            'suggestCharts', [key], {});\n",
              "      } catch (error) {\n",
              "        console.error('Error during call to suggestCharts:', error);\n",
              "      }\n",
              "      quickchartButtonEl.classList.remove('colab-df-spinner');\n",
              "      quickchartButtonEl.classList.add('colab-df-quickchart-complete');\n",
              "    }\n",
              "    (() => {\n",
              "      let quickchartButtonEl =\n",
              "        document.querySelector('#df-a61c0b98-b2a8-4e7f-a9c3-ec730725de71 button');\n",
              "      quickchartButtonEl.style.display =\n",
              "        google.colab.kernel.accessAllowed ? 'block' : 'none';\n",
              "    })();\n",
              "  </script>\n",
              "</div>\n",
              "    </div>\n",
              "  </div>\n"
            ],
            "application/vnd.google.colaboratory.intrinsic+json": {
              "type": "dataframe",
              "variable_name": "predictions_table",
              "summary": "{\n  \"name\": \"predictions_table\",\n  \"rows\": 12,\n  \"fields\": [\n    {\n      \"column\": \"Predicted\",\n      \"properties\": {\n        \"dtype\": \"float32\",\n        \"samples\": [\n          895.641845703125,\n          896.2938842773438,\n          895.3993530273438\n        ],\n        \"num_unique_values\": 12,\n        \"semantic_type\": \"\",\n        \"description\": \"\"\n      }\n    },\n    {\n      \"column\": \"Actual\",\n      \"properties\": {\n        \"dtype\": \"number\",\n        \"std\": 8.191015033115681,\n        \"min\": 874.0999999999999,\n        \"max\": 900.9999999999999,\n        \"samples\": [\n          898.0,\n          900.9999999999999,\n          874.0999999999999\n        ],\n        \"num_unique_values\": 12,\n        \"semantic_type\": \"\",\n        \"description\": \"\"\n      }\n    }\n  ]\n}"
            }
          },
          "metadata": {},
          "execution_count": 22
        }
      ]
    },
    {
      "cell_type": "code",
      "source": [
        "df_plot = pd.DataFrame({'Actual': actual_values, 'Predicted': predictions}, index=y.index[-num_steps:])\n",
        "\n",
        "# Plotting\n",
        "plt.figure(figsize=(10, 6))\n",
        "df_plot.plot(marker='o')\n",
        "plt.title('Actual vs Predicted CPI for the Last 12 Months')\n",
        "plt.xlabel('Month')\n",
        "plt.ylabel('CPI')\n",
        "plt.legend(['Actual', 'Predicted'])\n",
        "plt.show()"
      ],
      "metadata": {
        "colab": {
          "base_uri": "https://localhost:8080/",
          "height": 506
        },
        "id": "vbbjmmVt7oSB",
        "outputId": "ff997ee9-6066-4456-b5ae-d9f691fa80ad"
      },
      "execution_count": 23,
      "outputs": [
        {
          "output_type": "display_data",
          "data": {
            "text/plain": [
              "<Figure size 1000x600 with 0 Axes>"
            ]
          },
          "metadata": {}
        },
        {
          "output_type": "display_data",
          "data": {
            "text/plain": [
              "<Figure size 640x480 with 1 Axes>"
            ],
            "image/png": "[encoded data removed]"
          },
          "metadata": {}
        }
      ]
    },
    {
      "cell_type": "code",
      "source": [
        "\n",
        "mse = mean_squared_error(actual_values, predictions)\n",
        "print(f'Mean Squared Error (MSE): {mse}')\n",
        "\n",
        "rmse = np.sqrt(mse)\n",
        "print(f'Root Mean Squared Error (RMSE): {rmse}')\n",
        "\n",
        "r2 = r2_score(actual_values, predictions)\n",
        "print(f'R-squared: {r2}')"
      ],
      "metadata": {
        "colab": {
          "base_uri": "https://localhost:8080/"
        },
        "id": "MFQngk9k7ynV",
        "outputId": "cb22494b-3e37-4d80-9aff-877c3598583f"
      },
      "execution_count": 24,
      "outputs": [
        {
          "output_type": "stream",
          "name": "stdout",
          "text": [
            "Mean Squared Error (MSE): 90.65204004645337\n",
            "Root Mean Squared Error (RMSE): 9.521136489225084\n",
            "R-squared: -0.4739769661492148\n"
          ]
        }
      ]
    }
  ]
}